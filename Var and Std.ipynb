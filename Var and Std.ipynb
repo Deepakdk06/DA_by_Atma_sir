{
 "cells": [
  {
   "cell_type": "code",
   "execution_count": 11,
   "id": "1715c3fc",
   "metadata": {},
   "outputs": [],
   "source": [
    "import numpy as np"
   ]
  },
  {
   "cell_type": "code",
   "execution_count": 12,
   "id": "06d1b667",
   "metadata": {},
   "outputs": [],
   "source": [
    "x=[3,4,5,4,5,6,6.6,7,8,8.2,9,8,8.8,6.6,7]\n",
    "x=np.array(x)"
   ]
  },
  {
   "cell_type": "code",
   "execution_count": 15,
   "id": "bb1aa42b",
   "metadata": {},
   "outputs": [
    {
     "data": {
      "text/plain": [
       "6.413333333333332"
      ]
     },
     "execution_count": 15,
     "metadata": {},
     "output_type": "execute_result"
    }
   ],
   "source": [
    "mean=sum(x)/len(x)\n",
    "mean"
   ]
  },
  {
   "cell_type": "code",
   "execution_count": 21,
   "id": "72972f64",
   "metadata": {},
   "outputs": [
    {
     "name": "stdout",
     "output_type": "stream",
     "text": [
      "Max value : 9.0\n",
      "min value : 3.0\n"
     ]
    }
   ],
   "source": [
    "print('Max value :',x.max())\n",
    "print('min value :',x.min())"
   ]
  },
  {
   "cell_type": "code",
   "execution_count": 24,
   "id": "6ba24c13",
   "metadata": {},
   "outputs": [
    {
     "name": "stdout",
     "output_type": "stream",
     "text": [
      "max value : 9.0\n"
     ]
    }
   ],
   "source": [
    "max=x[0]\n",
    "for i in x:\n",
    "    if(i>max):\n",
    "        max=i\n",
    "print(\"max value :\",max)        "
   ]
  },
  {
   "cell_type": "code",
   "execution_count": 25,
   "id": "59415c4c",
   "metadata": {},
   "outputs": [
    {
     "name": "stdout",
     "output_type": "stream",
     "text": [
      "min value : 3.0\n"
     ]
    }
   ],
   "source": [
    "min=x[0]\n",
    "for i in x:\n",
    "    if(i<min):\n",
    "        min=i\n",
    "print(\"min value :\",min)        "
   ]
  },
  {
   "cell_type": "code",
   "execution_count": 26,
   "id": "45bc1cd2",
   "metadata": {},
   "outputs": [
    {
     "data": {
      "text/plain": [
       "6.0"
      ]
     },
     "execution_count": 26,
     "metadata": {},
     "output_type": "execute_result"
    }
   ],
   "source": [
    "# Range\n",
    "\n",
    "max-min"
   ]
  },
  {
   "cell_type": "code",
   "execution_count": 28,
   "id": "54e689be",
   "metadata": {},
   "outputs": [
    {
     "data": {
      "text/plain": [
       "5"
      ]
     },
     "execution_count": 28,
     "metadata": {},
     "output_type": "execute_result"
    }
   ],
   "source": [
    "np.absolute(-5)  # tis convrting negetive to positive value"
   ]
  },
  {
   "cell_type": "code",
   "execution_count": 29,
   "id": "7818f2e1",
   "metadata": {},
   "outputs": [],
   "source": [
    "x=np.array(x)"
   ]
  },
  {
   "cell_type": "code",
   "execution_count": 30,
   "id": "43b866a5",
   "metadata": {},
   "outputs": [
    {
     "data": {
      "text/plain": [
       "array([-3.41333333, -2.41333333, -1.41333333, -2.41333333, -1.41333333,\n",
       "       -0.41333333,  0.18666667,  0.58666667,  1.58666667,  1.78666667,\n",
       "        2.58666667,  1.58666667,  2.38666667,  0.18666667,  0.58666667])"
      ]
     },
     "execution_count": 30,
     "metadata": {},
     "output_type": "execute_result"
    }
   ],
   "source": [
    "x-mean"
   ]
  },
  {
   "cell_type": "code",
   "execution_count": 31,
   "id": "fcb3e1a2",
   "metadata": {},
   "outputs": [
    {
     "data": {
      "text/plain": [
       "array([3.41333333, 2.41333333, 1.41333333, 2.41333333, 1.41333333,\n",
       "       0.41333333, 0.18666667, 0.58666667, 1.58666667, 1.78666667,\n",
       "       2.58666667, 1.58666667, 2.38666667, 0.18666667, 0.58666667])"
      ]
     },
     "execution_count": 31,
     "metadata": {},
     "output_type": "execute_result"
    }
   ],
   "source": [
    "np.absolute(x-mean)"
   ]
  },
  {
   "cell_type": "code",
   "execution_count": 33,
   "id": "3735d1b5",
   "metadata": {},
   "outputs": [
    {
     "data": {
      "text/plain": [
       "1.5306666666666666"
      ]
     },
     "execution_count": 33,
     "metadata": {},
     "output_type": "execute_result"
    }
   ],
   "source": [
    "sum(np.absolute(x-mean))/len(x)"
   ]
  },
  {
   "cell_type": "code",
   "execution_count": 37,
   "id": "0da06dd2",
   "metadata": {},
   "outputs": [
    {
     "data": {
      "text/plain": [
       "3.2558222222222226"
      ]
     },
     "execution_count": 37,
     "metadata": {},
     "output_type": "execute_result"
    }
   ],
   "source": [
    "#Variance\n",
    "\n",
    "var=(sum((x-mean)**2))/len(x)\n",
    "var"
   ]
  },
  {
   "cell_type": "code",
   "execution_count": 38,
   "id": "95cee640",
   "metadata": {},
   "outputs": [
    {
     "data": {
      "text/plain": [
       "1.80438970907679"
      ]
     },
     "execution_count": 38,
     "metadata": {},
     "output_type": "execute_result"
    }
   ],
   "source": [
    "# Std\n",
    "\n",
    "np.sqrt(var)"
   ]
  },
  {
   "cell_type": "code",
   "execution_count": null,
   "id": "af9e2d2d",
   "metadata": {},
   "outputs": [],
   "source": []
  },
  {
   "cell_type": "code",
   "execution_count": null,
   "id": "55dc24ef",
   "metadata": {},
   "outputs": [],
   "source": []
  },
  {
   "cell_type": "code",
   "execution_count": null,
   "id": "25fa2c17",
   "metadata": {},
   "outputs": [],
   "source": []
  },
  {
   "cell_type": "code",
   "execution_count": null,
   "id": "2f5a8b26",
   "metadata": {},
   "outputs": [],
   "source": []
  },
  {
   "cell_type": "code",
   "execution_count": null,
   "id": "03d6b8b3",
   "metadata": {},
   "outputs": [],
   "source": []
  }
 ],
 "metadata": {
  "kernelspec": {
   "display_name": "Python 3",
   "language": "python",
   "name": "python3"
  },
  "language_info": {
   "codemirror_mode": {
    "name": "ipython",
    "version": 3
   },
   "file_extension": ".py",
   "mimetype": "text/x-python",
   "name": "python",
   "nbconvert_exporter": "python",
   "pygments_lexer": "ipython3",
   "version": "3.8.8"
  }
 },
 "nbformat": 4,
 "nbformat_minor": 5
}
