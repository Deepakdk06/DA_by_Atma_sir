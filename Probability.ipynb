{
 "cells": [
  {
   "cell_type": "code",
   "execution_count": 1,
   "id": "2a74c8d2",
   "metadata": {},
   "outputs": [],
   "source": [
    "import scipy\n",
    "import numpy as np"
   ]
  },
  {
   "cell_type": "code",
   "execution_count": 2,
   "id": "2d039d2c",
   "metadata": {},
   "outputs": [],
   "source": [
    "from scipy.stats import binom"
   ]
  },
  {
   "cell_type": "markdown",
   "id": "4a479171",
   "metadata": {},
   "source": [
    "# Uniform Distribution"
   ]
  },
  {
   "cell_type": "code",
   "execution_count": 3,
   "id": "6a729506",
   "metadata": {},
   "outputs": [],
   "source": [
    "x=np.arange(12,30,1)"
   ]
  },
  {
   "cell_type": "code",
   "execution_count": 4,
   "id": "819f747c",
   "metadata": {},
   "outputs": [
    {
     "data": {
      "text/plain": [
       "array([12, 13, 14, 15, 16, 17, 18, 19, 20, 21, 22, 23, 24, 25, 26, 27, 28,\n",
       "       29])"
      ]
     },
     "execution_count": 4,
     "metadata": {},
     "output_type": "execute_result"
    }
   ],
   "source": [
    "x"
   ]
  },
  {
   "cell_type": "code",
   "execution_count": 5,
   "id": "c3f99d0b",
   "metadata": {},
   "outputs": [
    {
     "data": {
      "text/plain": [
       "20.5"
      ]
     },
     "execution_count": 5,
     "metadata": {},
     "output_type": "execute_result"
    }
   ],
   "source": [
    "(12+29)/2"
   ]
  },
  {
   "cell_type": "code",
   "execution_count": 6,
   "id": "9cbf1623",
   "metadata": {},
   "outputs": [
    {
     "data": {
      "text/plain": [
       "20.5"
      ]
     },
     "execution_count": 6,
     "metadata": {},
     "output_type": "execute_result"
    }
   ],
   "source": [
    "np.mean(x)"
   ]
  },
  {
   "cell_type": "code",
   "execution_count": 7,
   "id": "3ff6fe7d",
   "metadata": {},
   "outputs": [],
   "source": [
    "from scipy.stats import uniform"
   ]
  },
  {
   "cell_type": "code",
   "execution_count": 15,
   "id": "bf7981b3",
   "metadata": {},
   "outputs": [
    {
     "name": "stdout",
     "output_type": "stream",
     "text": [
      "Scale is : 17\n"
     ]
    }
   ],
   "source": [
    "print('Scale is :',29-12)   "
   ]
  },
  {
   "cell_type": "code",
   "execution_count": 9,
   "id": "99eb1759",
   "metadata": {},
   "outputs": [
    {
     "data": {
      "text/plain": [
       "20.5"
      ]
     },
     "execution_count": 9,
     "metadata": {},
     "output_type": "execute_result"
    }
   ],
   "source": [
    "uniform.mean(loc=12,scale=17) "
   ]
  },
  {
   "cell_type": "code",
   "execution_count": 10,
   "id": "0e8e5efd",
   "metadata": {},
   "outputs": [
    {
     "data": {
      "text/plain": [
       "0.058823529411764705"
      ]
     },
     "execution_count": 10,
     "metadata": {},
     "output_type": "execute_result"
    }
   ],
   "source": [
    "uniform.pdf(13 ,loc=12,scale=17)"
   ]
  },
  {
   "cell_type": "code",
   "execution_count": 11,
   "id": "e08c8f84",
   "metadata": {},
   "outputs": [
    {
     "data": {
      "text/plain": [
       "0.058823529411764705"
      ]
     },
     "execution_count": 11,
     "metadata": {},
     "output_type": "execute_result"
    }
   ],
   "source": [
    "uniform.pdf(15,loc=12,scale=17)"
   ]
  },
  {
   "cell_type": "code",
   "execution_count": 12,
   "id": "288e2905",
   "metadata": {},
   "outputs": [
    {
     "data": {
      "text/plain": [
       "0.058823529411764705"
      ]
     },
     "execution_count": 12,
     "metadata": {},
     "output_type": "execute_result"
    }
   ],
   "source": [
    "1*1/17"
   ]
  },
  {
   "cell_type": "code",
   "execution_count": 18,
   "id": "e86ec088",
   "metadata": {},
   "outputs": [
    {
     "data": {
      "text/plain": [
       "0.5"
      ]
     },
     "execution_count": 18,
     "metadata": {},
     "output_type": "execute_result"
    }
   ],
   "source": [
    "uniform.cdf(20.5,loc=12,scale=17)"
   ]
  },
  {
   "cell_type": "code",
   "execution_count": 21,
   "id": "1f7cb9d5",
   "metadata": {},
   "outputs": [
    {
     "data": {
      "text/plain": [
       "0.35294117647058826"
      ]
     },
     "execution_count": 21,
     "metadata": {},
     "output_type": "execute_result"
    }
   ],
   "source": [
    "uniform.cdf(22,loc=12,scale=17)-uniform.cdf(16,loc=12,scale=17)"
   ]
  },
  {
   "cell_type": "code",
   "execution_count": 22,
   "id": "7bd6bd16",
   "metadata": {},
   "outputs": [
    {
     "data": {
      "text/plain": [
       "24.083333333333332"
      ]
     },
     "execution_count": 22,
     "metadata": {},
     "output_type": "execute_result"
    }
   ],
   "source": [
    "uniform.var(loc=12,scale=17)"
   ]
  },
  {
   "cell_type": "code",
   "execution_count": 23,
   "id": "ab510990",
   "metadata": {},
   "outputs": [
    {
     "data": {
      "text/plain": [
       "4.907477288111819"
      ]
     },
     "execution_count": 23,
     "metadata": {},
     "output_type": "execute_result"
    }
   ],
   "source": [
    "uniform.std(loc=12,scale=17)"
   ]
  },
  {
   "cell_type": "markdown",
   "id": "cd99acd1",
   "metadata": {},
   "source": [
    "# Exponential Dis"
   ]
  },
  {
   "cell_type": "code",
   "execution_count": 1,
   "id": "bf174bfc",
   "metadata": {},
   "outputs": [],
   "source": [
    "from scipy.stats import expon"
   ]
  },
  {
   "cell_type": "code",
   "execution_count": 3,
   "id": "d411c19c",
   "metadata": {},
   "outputs": [
    {
     "data": {
      "text/plain": [
       "22.0"
      ]
     },
     "execution_count": 3,
     "metadata": {},
     "output_type": "execute_result"
    }
   ],
   "source": [
    "expon.mean(loc=0,scale=22)  #scale means lamda, lamda means mean value"
   ]
  },
  {
   "cell_type": "code",
   "execution_count": 5,
   "id": "5312f3bf",
   "metadata": {},
   "outputs": [
    {
     "data": {
      "text/plain": [
       "0.5056967074374725"
      ]
     },
     "execution_count": 5,
     "metadata": {},
     "output_type": "execute_result"
    }
   ],
   "source": [
    "1-expon.cdf(x=15,loc=0,scale=22)"
   ]
  },
  {
   "cell_type": "code",
   "execution_count": 6,
   "id": "d9be0578",
   "metadata": {},
   "outputs": [
    {
     "data": {
      "text/plain": [
       "0.010615346461976705"
      ]
     },
     "execution_count": 6,
     "metadata": {},
     "output_type": "execute_result"
    }
   ],
   "source": [
    "1-expon.cdf(x=100,loc=0,scale=22)"
   ]
  },
  {
   "cell_type": "code",
   "execution_count": 8,
   "id": "95d7f120",
   "metadata": {},
   "outputs": [
    {
     "data": {
      "text/plain": [
       "0.02885165540637645"
      ]
     },
     "execution_count": 8,
     "metadata": {},
     "output_type": "execute_result"
    }
   ],
   "source": [
    "expon.pdf(x=10,loc=0,scale=22)"
   ]
  },
  {
   "cell_type": "code",
   "execution_count": null,
   "id": "f36ea461",
   "metadata": {},
   "outputs": [],
   "source": [
    "# Everything can count like uniform dis"
   ]
  },
  {
   "cell_type": "code",
   "execution_count": null,
   "id": "5caf3c96",
   "metadata": {},
   "outputs": [],
   "source": []
  },
  {
   "cell_type": "markdown",
   "id": "3409612c",
   "metadata": {},
   "source": [
    "# Normal Distribution"
   ]
  },
  {
   "cell_type": "code",
   "execution_count": 24,
   "id": "92aa8e6b",
   "metadata": {},
   "outputs": [],
   "source": [
    "import scipy\n",
    "import numpy as np\n",
    "from scipy.stats import norm"
   ]
  },
  {
   "cell_type": "code",
   "execution_count": 25,
   "id": "d65b0d8c",
   "metadata": {},
   "outputs": [
    {
     "data": {
      "text/plain": [
       "0.6826894921370859"
      ]
     },
     "execution_count": 25,
     "metadata": {},
     "output_type": "execute_result"
    }
   ],
   "source": [
    "norm.cdf(1,0,1)-norm.cdf(-1,0,1)"
   ]
  },
  {
   "cell_type": "code",
   "execution_count": 26,
   "id": "9d1d11be",
   "metadata": {},
   "outputs": [
    {
     "data": {
      "text/plain": [
       "0.24197072451914337"
      ]
     },
     "execution_count": 26,
     "metadata": {},
     "output_type": "execute_result"
    }
   ],
   "source": [
    "norm.pdf(1,0,1)"
   ]
  },
  {
   "cell_type": "code",
   "execution_count": 27,
   "id": "51d94b25",
   "metadata": {},
   "outputs": [
    {
     "data": {
      "text/plain": [
       "0.24197072451914337"
      ]
     },
     "execution_count": 27,
     "metadata": {},
     "output_type": "execute_result"
    }
   ],
   "source": [
    "norm.pdf(1,0,1)"
   ]
  },
  {
   "cell_type": "markdown",
   "id": "c28f9ce1",
   "metadata": {},
   "source": [
    "# Yahoo_finance_data"
   ]
  },
  {
   "cell_type": "code",
   "execution_count": 9,
   "id": "80f6a1b4",
   "metadata": {},
   "outputs": [],
   "source": [
    "import requests"
   ]
  },
  {
   "cell_type": "code",
   "execution_count": 10,
   "id": "c19bc70a",
   "metadata": {},
   "outputs": [
    {
     "name": "stdout",
     "output_type": "stream",
     "text": [
      "Requirement already satisfied: yfinance in c:\\users\\deepak kumar\\anaconda3\\lib\\site-packages (0.1.70)\n",
      "Requirement already satisfied: requests>=2.26 in c:\\users\\deepak kumar\\anaconda3\\lib\\site-packages (from yfinance) (2.27.1)\n",
      "Requirement already satisfied: pandas>=0.24.0 in c:\\users\\deepak kumar\\anaconda3\\lib\\site-packages (from yfinance) (1.2.4)\n",
      "Requirement already satisfied: numpy>=1.15 in c:\\users\\deepak kumar\\anaconda3\\lib\\site-packages (from yfinance) (1.20.1)\n",
      "Requirement already satisfied: multitasking>=0.0.7 in c:\\users\\deepak kumar\\anaconda3\\lib\\site-packages (from yfinance) (0.0.10)\n",
      "Requirement already satisfied: lxml>=4.5.1 in c:\\users\\deepak kumar\\anaconda3\\lib\\site-packages (from yfinance) (4.6.3)\n",
      "Requirement already satisfied: pytz>=2017.3 in c:\\users\\deepak kumar\\anaconda3\\lib\\site-packages (from pandas>=0.24.0->yfinance) (2021.1)\n",
      "Requirement already satisfied: python-dateutil>=2.7.3 in c:\\users\\deepak kumar\\anaconda3\\lib\\site-packages (from pandas>=0.24.0->yfinance) (2.8.1)\n",
      "Requirement already satisfied: six>=1.5 in c:\\users\\deepak kumar\\anaconda3\\lib\\site-packages (from python-dateutil>=2.7.3->pandas>=0.24.0->yfinance) (1.15.0)\n",
      "Requirement already satisfied: urllib3<1.27,>=1.21.1 in c:\\users\\deepak kumar\\anaconda3\\lib\\site-packages (from requests>=2.26->yfinance) (1.26.4)\n",
      "Requirement already satisfied: certifi>=2017.4.17 in c:\\users\\deepak kumar\\anaconda3\\lib\\site-packages (from requests>=2.26->yfinance) (2020.12.5)\n",
      "Requirement already satisfied: idna<4,>=2.5 in c:\\users\\deepak kumar\\anaconda3\\lib\\site-packages (from requests>=2.26->yfinance) (2.10)\n",
      "Requirement already satisfied: charset-normalizer~=2.0.0 in c:\\users\\deepak kumar\\anaconda3\\lib\\site-packages (from requests>=2.26->yfinance) (2.0.12)\n"
     ]
    }
   ],
   "source": [
    "!pip install yfinance"
   ]
  },
  {
   "cell_type": "code",
   "execution_count": 11,
   "id": "1f1adf32",
   "metadata": {},
   "outputs": [],
   "source": [
    "import yfinance as yahoofinance"
   ]
  },
  {
   "cell_type": "code",
   "execution_count": 12,
   "id": "10b1287a",
   "metadata": {},
   "outputs": [],
   "source": [
    "data=yahoofinance.Ticker('RELI')"
   ]
  },
  {
   "cell_type": "code",
   "execution_count": 13,
   "id": "232a3b3f",
   "metadata": {},
   "outputs": [
    {
     "data": {
      "text/plain": [
       "yfinance.Ticker object <RELI>"
      ]
     },
     "execution_count": 13,
     "metadata": {},
     "output_type": "execute_result"
    }
   ],
   "source": [
    "data"
   ]
  },
  {
   "cell_type": "code",
   "execution_count": 14,
   "id": "8a0426bf",
   "metadata": {
    "scrolled": false
   },
   "outputs": [
    {
     "data": {
      "text/plain": [
       "{'zip': '08701',\n",
       " 'sector': 'Financial Services',\n",
       " 'longBusinessSummary': 'Reliance Global Group, Inc. engages in the acquisition and management of wholesale and retail insurance agencies in the United States. It provides healthcare and Medicare, personal and commercial, trucking, and employee benefits insurance products. The company was formerly known as Ethos Media Network, Inc. and changed its name to Reliance Global Group, Inc. in October 2018. Reliance Global Group, Inc. was incorporated in 2013 and is headquartered in Lakewood, New Jersey.',\n",
       " 'city': 'Lakewood',\n",
       " 'phone': '732 380 4600',\n",
       " 'state': 'NJ',\n",
       " 'country': 'United States',\n",
       " 'companyOfficers': [],\n",
       " 'website': 'https://www.relianceglobalgroup.com',\n",
       " 'maxAge': 1,\n",
       " 'address1': '300 Boulevard of the Americas',\n",
       " 'industry': 'Insurance Brokers',\n",
       " 'address2': 'Suite 105',\n",
       " 'ebitdaMargins': -0.16587,\n",
       " 'profitMargins': -0.31331,\n",
       " 'grossMargins': 0.29378998,\n",
       " 'operatingCashflow': -318713,\n",
       " 'revenueGrowth': 0.537,\n",
       " 'operatingMargins': -0.30124,\n",
       " 'ebitda': -1501040,\n",
       " 'targetLowPrice': 7,\n",
       " 'recommendationKey': 'buy',\n",
       " 'grossProfits': 2055494,\n",
       " 'freeCashflow': -139387,\n",
       " 'targetMedianPrice': 7,\n",
       " 'currentPrice': 3.37,\n",
       " 'earningsGrowth': None,\n",
       " 'currentRatio': 3.561,\n",
       " 'returnOnAssets': -0.07654,\n",
       " 'numberOfAnalystOpinions': 1,\n",
       " 'targetMeanPrice': 7,\n",
       " 'debtToEquity': 76.224,\n",
       " 'returnOnEquity': -0.43660998,\n",
       " 'targetHighPrice': 7,\n",
       " 'totalCash': 5655103,\n",
       " 'totalDebt': 9729645,\n",
       " 'totalRevenue': 9049368,\n",
       " 'totalCashPerShare': 0.516,\n",
       " 'financialCurrency': 'USD',\n",
       " 'revenuePerShare': 1.075,\n",
       " 'quickRatio': 3.212,\n",
       " 'recommendationMean': 2,\n",
       " 'exchange': 'NCM',\n",
       " 'shortName': 'Reliance Global Group, Inc.',\n",
       " 'longName': 'Reliance Global Group, Inc.',\n",
       " 'exchangeTimezoneName': 'America/New_York',\n",
       " 'exchangeTimezoneShortName': 'EDT',\n",
       " 'isEsgPopulated': False,\n",
       " 'gmtOffSetMilliseconds': '-14400000',\n",
       " 'quoteType': 'EQUITY',\n",
       " 'symbol': 'RELI',\n",
       " 'messageBoardId': 'finmb_254784539',\n",
       " 'market': 'us_market',\n",
       " 'annualHoldingsTurnover': None,\n",
       " 'enterpriseToRevenue': 4.53,\n",
       " 'beta3Year': None,\n",
       " 'enterpriseToEbitda': -27.312,\n",
       " '52WeekChange': 0.08709681,\n",
       " 'morningStarRiskRating': None,\n",
       " 'forwardEps': 0.08,\n",
       " 'revenueQuarterlyGrowth': None,\n",
       " 'sharesOutstanding': 11337100,\n",
       " 'fundInceptionDate': None,\n",
       " 'annualReportExpenseRatio': None,\n",
       " 'totalAssets': None,\n",
       " 'bookValue': 1.166,\n",
       " 'sharesShort': 576386,\n",
       " 'sharesPercentSharesOut': 0.0508,\n",
       " 'fundFamily': None,\n",
       " 'lastFiscalYearEnd': 1609372800,\n",
       " 'heldPercentInstitutions': 0.17201,\n",
       " 'netIncomeToCommon': -2835272,\n",
       " 'trailingEps': -0.337,\n",
       " 'lastDividendValue': None,\n",
       " 'SandP52WeekChange': 0.049485445,\n",
       " 'priceToBook': 2.8902228,\n",
       " 'heldPercentInsiders': 0.47405,\n",
       " 'nextFiscalYearEnd': 1672444800,\n",
       " 'yield': None,\n",
       " 'mostRecentQuarter': 1632960000,\n",
       " 'shortRatio': 1.71,\n",
       " 'sharesShortPreviousMonthDate': 1646006400,\n",
       " 'floatShares': 5143784,\n",
       " 'beta': -0.55561,\n",
       " 'enterpriseValue': 40996728,\n",
       " 'priceHint': 4,\n",
       " 'threeYearAverageReturn': None,\n",
       " 'lastSplitDate': None,\n",
       " 'lastSplitFactor': None,\n",
       " 'legalType': None,\n",
       " 'lastDividendDate': None,\n",
       " 'morningStarOverallRating': None,\n",
       " 'earningsQuarterlyGrowth': None,\n",
       " 'priceToSalesTrailing12Months': 4.221955,\n",
       " 'dateShortInterest': 1648684800,\n",
       " 'pegRatio': None,\n",
       " 'ytdReturn': None,\n",
       " 'forwardPE': 42.125,\n",
       " 'lastCapGain': None,\n",
       " 'shortPercentOfFloat': 0.0877,\n",
       " 'sharesShortPriorMonth': 623942,\n",
       " 'impliedSharesOutstanding': 0,\n",
       " 'category': None,\n",
       " 'fiveYearAverageReturn': None,\n",
       " 'previousClose': 3.36,\n",
       " 'regularMarketOpen': 3.36,\n",
       " 'twoHundredDayAverage': 3.914315,\n",
       " 'trailingAnnualDividendYield': 0,\n",
       " 'payoutRatio': 0,\n",
       " 'volume24Hr': None,\n",
       " 'regularMarketDayHigh': 3.46,\n",
       " 'navPrice': None,\n",
       " 'averageDailyVolume10Day': 360710,\n",
       " 'regularMarketPreviousClose': 3.36,\n",
       " 'fiftyDayAverage': 5.1792,\n",
       " 'trailingAnnualDividendRate': 0,\n",
       " 'open': 3.36,\n",
       " 'toCurrency': None,\n",
       " 'averageVolume10days': 360710,\n",
       " 'expireDate': None,\n",
       " 'algorithm': None,\n",
       " 'dividendRate': None,\n",
       " 'exDividendDate': None,\n",
       " 'circulatingSupply': None,\n",
       " 'startDate': None,\n",
       " 'regularMarketDayLow': 3.26,\n",
       " 'currency': 'USD',\n",
       " 'regularMarketVolume': 125304,\n",
       " 'lastMarket': None,\n",
       " 'maxSupply': None,\n",
       " 'openInterest': None,\n",
       " 'marketCap': 38206024,\n",
       " 'volumeAllCurrencies': None,\n",
       " 'strikePrice': None,\n",
       " 'averageVolume': 1123120,\n",
       " 'dayLow': 3.26,\n",
       " 'ask': 3.5,\n",
       " 'askSize': 1100,\n",
       " 'volume': 125304,\n",
       " 'fiftyTwoWeekHigh': 10.49,\n",
       " 'fromCurrency': None,\n",
       " 'fiveYearAvgDividendYield': None,\n",
       " 'fiftyTwoWeekLow': 1.834,\n",
       " 'bid': 3.33,\n",
       " 'tradeable': False,\n",
       " 'dividendYield': None,\n",
       " 'bidSize': 4000,\n",
       " 'dayHigh': 3.46,\n",
       " 'regularMarketPrice': 3.37,\n",
       " 'preMarketPrice': None,\n",
       " 'logo_url': 'https://logo.clearbit.com/relianceglobalgroup.com'}"
      ]
     },
     "execution_count": 14,
     "metadata": {},
     "output_type": "execute_result"
    }
   ],
   "source": [
    "data.info"
   ]
  },
  {
   "cell_type": "code",
   "execution_count": 16,
   "id": "a86d3049",
   "metadata": {},
   "outputs": [
    {
     "data": {
      "text/plain": [
       "'Financial Services'"
      ]
     },
     "execution_count": 16,
     "metadata": {},
     "output_type": "execute_result"
    }
   ],
   "source": [
    "data.info['sector']"
   ]
  },
  {
   "cell_type": "code",
   "execution_count": 17,
   "id": "fbf7c92c",
   "metadata": {},
   "outputs": [
    {
     "data": {
      "text/plain": [
       "-0.55561"
      ]
     },
     "execution_count": 17,
     "metadata": {},
     "output_type": "execute_result"
    }
   ],
   "source": [
    "data.info['beta']"
   ]
  },
  {
   "cell_type": "code",
   "execution_count": 18,
   "id": "cefc4558",
   "metadata": {},
   "outputs": [
    {
     "data": {
      "text/html": [
       "<div>\n",
       "<style scoped>\n",
       "    .dataframe tbody tr th:only-of-type {\n",
       "        vertical-align: middle;\n",
       "    }\n",
       "\n",
       "    .dataframe tbody tr th {\n",
       "        vertical-align: top;\n",
       "    }\n",
       "\n",
       "    .dataframe thead th {\n",
       "        text-align: right;\n",
       "    }\n",
       "</style>\n",
       "<table border=\"1\" class=\"dataframe\">\n",
       "  <thead>\n",
       "    <tr style=\"text-align: right;\">\n",
       "      <th></th>\n",
       "      <th>Open</th>\n",
       "      <th>High</th>\n",
       "      <th>Low</th>\n",
       "      <th>Close</th>\n",
       "      <th>Volume</th>\n",
       "      <th>Dividends</th>\n",
       "      <th>Stock Splits</th>\n",
       "    </tr>\n",
       "    <tr>\n",
       "      <th>Date</th>\n",
       "      <th></th>\n",
       "      <th></th>\n",
       "      <th></th>\n",
       "      <th></th>\n",
       "      <th></th>\n",
       "      <th></th>\n",
       "      <th></th>\n",
       "    </tr>\n",
       "  </thead>\n",
       "  <tbody>\n",
       "    <tr>\n",
       "      <th>2021-02-09</th>\n",
       "      <td>5.40</td>\n",
       "      <td>9.07</td>\n",
       "      <td>5.20</td>\n",
       "      <td>5.82</td>\n",
       "      <td>2050100</td>\n",
       "      <td>0</td>\n",
       "      <td>0</td>\n",
       "    </tr>\n",
       "    <tr>\n",
       "      <th>2021-02-10</th>\n",
       "      <td>7.00</td>\n",
       "      <td>7.00</td>\n",
       "      <td>6.00</td>\n",
       "      <td>6.49</td>\n",
       "      <td>1121500</td>\n",
       "      <td>0</td>\n",
       "      <td>0</td>\n",
       "    </tr>\n",
       "    <tr>\n",
       "      <th>2021-02-11</th>\n",
       "      <td>6.80</td>\n",
       "      <td>6.80</td>\n",
       "      <td>6.00</td>\n",
       "      <td>6.07</td>\n",
       "      <td>274500</td>\n",
       "      <td>0</td>\n",
       "      <td>0</td>\n",
       "    </tr>\n",
       "    <tr>\n",
       "      <th>2021-02-12</th>\n",
       "      <td>5.97</td>\n",
       "      <td>5.98</td>\n",
       "      <td>4.81</td>\n",
       "      <td>5.21</td>\n",
       "      <td>484200</td>\n",
       "      <td>0</td>\n",
       "      <td>0</td>\n",
       "    </tr>\n",
       "    <tr>\n",
       "      <th>2021-02-16</th>\n",
       "      <td>5.25</td>\n",
       "      <td>5.40</td>\n",
       "      <td>5.01</td>\n",
       "      <td>5.06</td>\n",
       "      <td>258100</td>\n",
       "      <td>0</td>\n",
       "      <td>0</td>\n",
       "    </tr>\n",
       "    <tr>\n",
       "      <th>...</th>\n",
       "      <td>...</td>\n",
       "      <td>...</td>\n",
       "      <td>...</td>\n",
       "      <td>...</td>\n",
       "      <td>...</td>\n",
       "      <td>...</td>\n",
       "      <td>...</td>\n",
       "    </tr>\n",
       "    <tr>\n",
       "      <th>2022-04-08</th>\n",
       "      <td>3.81</td>\n",
       "      <td>3.81</td>\n",
       "      <td>3.44</td>\n",
       "      <td>3.46</td>\n",
       "      <td>239800</td>\n",
       "      <td>0</td>\n",
       "      <td>0</td>\n",
       "    </tr>\n",
       "    <tr>\n",
       "      <th>2022-04-11</th>\n",
       "      <td>3.59</td>\n",
       "      <td>3.95</td>\n",
       "      <td>3.40</td>\n",
       "      <td>3.75</td>\n",
       "      <td>326500</td>\n",
       "      <td>0</td>\n",
       "      <td>0</td>\n",
       "    </tr>\n",
       "    <tr>\n",
       "      <th>2022-04-12</th>\n",
       "      <td>3.78</td>\n",
       "      <td>3.78</td>\n",
       "      <td>3.25</td>\n",
       "      <td>3.28</td>\n",
       "      <td>282800</td>\n",
       "      <td>0</td>\n",
       "      <td>0</td>\n",
       "    </tr>\n",
       "    <tr>\n",
       "      <th>2022-04-13</th>\n",
       "      <td>3.34</td>\n",
       "      <td>3.44</td>\n",
       "      <td>3.28</td>\n",
       "      <td>3.36</td>\n",
       "      <td>122800</td>\n",
       "      <td>0</td>\n",
       "      <td>0</td>\n",
       "    </tr>\n",
       "    <tr>\n",
       "      <th>2022-04-14</th>\n",
       "      <td>3.36</td>\n",
       "      <td>3.46</td>\n",
       "      <td>3.26</td>\n",
       "      <td>3.37</td>\n",
       "      <td>125300</td>\n",
       "      <td>0</td>\n",
       "      <td>0</td>\n",
       "    </tr>\n",
       "  </tbody>\n",
       "</table>\n",
       "<p>299 rows × 7 columns</p>\n",
       "</div>"
      ],
      "text/plain": [
       "            Open  High   Low  Close   Volume  Dividends  Stock Splits\n",
       "Date                                                                 \n",
       "2021-02-09  5.40  9.07  5.20   5.82  2050100          0             0\n",
       "2021-02-10  7.00  7.00  6.00   6.49  1121500          0             0\n",
       "2021-02-11  6.80  6.80  6.00   6.07   274500          0             0\n",
       "2021-02-12  5.97  5.98  4.81   5.21   484200          0             0\n",
       "2021-02-16  5.25  5.40  5.01   5.06   258100          0             0\n",
       "...          ...   ...   ...    ...      ...        ...           ...\n",
       "2022-04-08  3.81  3.81  3.44   3.46   239800          0             0\n",
       "2022-04-11  3.59  3.95  3.40   3.75   326500          0             0\n",
       "2022-04-12  3.78  3.78  3.25   3.28   282800          0             0\n",
       "2022-04-13  3.34  3.44  3.28   3.36   122800          0             0\n",
       "2022-04-14  3.36  3.46  3.26   3.37   125300          0             0\n",
       "\n",
       "[299 rows x 7 columns]"
      ]
     },
     "execution_count": 18,
     "metadata": {},
     "output_type": "execute_result"
    }
   ],
   "source": [
    "data.history(period='max')"
   ]
  },
  {
   "cell_type": "code",
   "execution_count": 19,
   "id": "ff156e0c",
   "metadata": {},
   "outputs": [],
   "source": [
    "import datetime"
   ]
  },
  {
   "cell_type": "code",
   "execution_count": 25,
   "id": "a1abb37f",
   "metadata": {},
   "outputs": [],
   "source": [
    "startDate=datetime.datetime(2021,2,11)\n",
    "endDate=datetime.datetime(2022,4,13)\n",
    "data1=data.history(start=startDate,end=endDate)"
   ]
  },
  {
   "cell_type": "code",
   "execution_count": 26,
   "id": "49f3b58b",
   "metadata": {},
   "outputs": [
    {
     "data": {
      "text/plain": [
       "<AxesSubplot:xlabel='Date'>"
      ]
     },
     "execution_count": 26,
     "metadata": {},
     "output_type": "execute_result"
    },
    {
     "data": {
      "image/png": "[encoded data removed]",
      "text/plain": [
       "<Figure size 432x288 with 1 Axes>"
      ]
     },
     "metadata": {
      "needs_background": "light"
     },
     "output_type": "display_data"
    }
   ],
   "source": [
    "data1['Open'].plot()"
   ]
  },
  {
   "cell_type": "code",
   "execution_count": null,
   "id": "0c004e2c",
   "metadata": {},
   "outputs": [],
   "source": []
  }
 ],
 "metadata": {
  "kernelspec": {
   "display_name": "Python 3",
   "language": "python",
   "name": "python3"
  },
  "language_info": {
   "codemirror_mode": {
    "name": "ipython",
    "version": 3
   },
   "file_extension": ".py",
   "mimetype": "text/x-python",
   "name": "python",
   "nbconvert_exporter": "python",
   "pygments_lexer": "ipython3",
   "version": "3.8.8"
  }
 },
 "nbformat": 4,
 "nbformat_minor": 5
}
